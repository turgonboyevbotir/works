{
  "nbformat": 4,
  "nbformat_minor": 0,
  "metadata": {
    "colab": {
      "name": "Untitled",
      "provenance": []
    },
    "kernelspec": {
      "name": "python3",
      "display_name": "Python 3"
    },
    "language_info": {
      "name": "python"
    }
  },
  "cells": [
    {
      "cell_type": "code",
      "execution_count": 34,
      "metadata": {
        "colab": {
          "base_uri": "https://localhost:8080/",
          "height": 215
        },
        "id": "f5vdDs5wwxuk",
        "outputId": "909f5eaf-75b1-4192-8404-66b73d2fc817"
      },
      "outputs": [
        {
          "output_type": "execute_result",
          "data": {
            "text/plain": [
              "   Unnamed: 0           district  rooms  size  level  max_levels  price\n",
              "0          81        Учтепинский      1  20.0      3           9  14500\n",
              "1         110        Яшнободский      1  20.0      3           3  12500\n",
              "2         473      Яккасарайский      1  20.0      2           4  14500\n",
              "3         739  Мирзо-Улугбекский      1  16.0      1           4  18000\n",
              "4         745  Мирзо-Улугбекский      1  16.0      1           4  18000"
            ],
            "text/html": [
              "\n",
              "  <div id=\"df-bf65dea9-52b4-4af0-9e30-dfb443d48fb8\">\n",
              "    <div class=\"colab-df-container\">\n",
              "      <div>\n",
              "<style scoped>\n",
              "    .dataframe tbody tr th:only-of-type {\n",
              "        vertical-align: middle;\n",
              "    }\n",
              "\n",
              "    .dataframe tbody tr th {\n",
              "        vertical-align: top;\n",
              "    }\n",
              "\n",
              "    .dataframe thead th {\n",
              "        text-align: right;\n",
              "    }\n",
              "</style>\n",
              "<table border=\"1\" class=\"dataframe\">\n",
              "  <thead>\n",
              "    <tr style=\"text-align: right;\">\n",
              "      <th></th>\n",
              "      <th>Unnamed: 0</th>\n",
              "      <th>district</th>\n",
              "      <th>rooms</th>\n",
              "      <th>size</th>\n",
              "      <th>level</th>\n",
              "      <th>max_levels</th>\n",
              "      <th>price</th>\n",
              "    </tr>\n",
              "  </thead>\n",
              "  <tbody>\n",
              "    <tr>\n",
              "      <th>0</th>\n",
              "      <td>81</td>\n",
              "      <td>Учтепинский</td>\n",
              "      <td>1</td>\n",
              "      <td>20.0</td>\n",
              "      <td>3</td>\n",
              "      <td>9</td>\n",
              "      <td>14500</td>\n",
              "    </tr>\n",
              "    <tr>\n",
              "      <th>1</th>\n",
              "      <td>110</td>\n",
              "      <td>Яшнободский</td>\n",
              "      <td>1</td>\n",
              "      <td>20.0</td>\n",
              "      <td>3</td>\n",
              "      <td>3</td>\n",
              "      <td>12500</td>\n",
              "    </tr>\n",
              "    <tr>\n",
              "      <th>2</th>\n",
              "      <td>473</td>\n",
              "      <td>Яккасарайский</td>\n",
              "      <td>1</td>\n",
              "      <td>20.0</td>\n",
              "      <td>2</td>\n",
              "      <td>4</td>\n",
              "      <td>14500</td>\n",
              "    </tr>\n",
              "    <tr>\n",
              "      <th>3</th>\n",
              "      <td>739</td>\n",
              "      <td>Мирзо-Улугбекский</td>\n",
              "      <td>1</td>\n",
              "      <td>16.0</td>\n",
              "      <td>1</td>\n",
              "      <td>4</td>\n",
              "      <td>18000</td>\n",
              "    </tr>\n",
              "    <tr>\n",
              "      <th>4</th>\n",
              "      <td>745</td>\n",
              "      <td>Мирзо-Улугбекский</td>\n",
              "      <td>1</td>\n",
              "      <td>16.0</td>\n",
              "      <td>1</td>\n",
              "      <td>4</td>\n",
              "      <td>18000</td>\n",
              "    </tr>\n",
              "  </tbody>\n",
              "</table>\n",
              "</div>\n",
              "      <button class=\"colab-df-convert\" onclick=\"convertToInteractive('df-bf65dea9-52b4-4af0-9e30-dfb443d48fb8')\"\n",
              "              title=\"Convert this dataframe to an interactive table.\"\n",
              "              style=\"display:none;\">\n",
              "        \n",
              "  <svg xmlns=\"http://www.w3.org/2000/svg\" height=\"24px\"viewBox=\"0 0 24 24\"\n",
              "       width=\"24px\">\n",
              "    <path d=\"M0 0h24v24H0V0z\" fill=\"none\"/>\n",
              "    <path d=\"M18.56 5.44l.94 2.06.94-2.06 2.06-.94-2.06-.94-.94-2.06-.94 2.06-2.06.94zm-11 1L8.5 8.5l.94-2.06 2.06-.94-2.06-.94L8.5 2.5l-.94 2.06-2.06.94zm10 10l.94 2.06.94-2.06 2.06-.94-2.06-.94-.94-2.06-.94 2.06-2.06.94z\"/><path d=\"M17.41 7.96l-1.37-1.37c-.4-.4-.92-.59-1.43-.59-.52 0-1.04.2-1.43.59L10.3 9.45l-7.72 7.72c-.78.78-.78 2.05 0 2.83L4 21.41c.39.39.9.59 1.41.59.51 0 1.02-.2 1.41-.59l7.78-7.78 2.81-2.81c.8-.78.8-2.07 0-2.86zM5.41 20L4 18.59l7.72-7.72 1.47 1.35L5.41 20z\"/>\n",
              "  </svg>\n",
              "      </button>\n",
              "      \n",
              "  <style>\n",
              "    .colab-df-container {\n",
              "      display:flex;\n",
              "      flex-wrap:wrap;\n",
              "      gap: 12px;\n",
              "    }\n",
              "\n",
              "    .colab-df-convert {\n",
              "      background-color: #E8F0FE;\n",
              "      border: none;\n",
              "      border-radius: 50%;\n",
              "      cursor: pointer;\n",
              "      display: none;\n",
              "      fill: #1967D2;\n",
              "      height: 32px;\n",
              "      padding: 0 0 0 0;\n",
              "      width: 32px;\n",
              "    }\n",
              "\n",
              "    .colab-df-convert:hover {\n",
              "      background-color: #E2EBFA;\n",
              "      box-shadow: 0px 1px 2px rgba(60, 64, 67, 0.3), 0px 1px 3px 1px rgba(60, 64, 67, 0.15);\n",
              "      fill: #174EA6;\n",
              "    }\n",
              "\n",
              "    [theme=dark] .colab-df-convert {\n",
              "      background-color: #3B4455;\n",
              "      fill: #D2E3FC;\n",
              "    }\n",
              "\n",
              "    [theme=dark] .colab-df-convert:hover {\n",
              "      background-color: #434B5C;\n",
              "      box-shadow: 0px 1px 3px 1px rgba(0, 0, 0, 0.15);\n",
              "      filter: drop-shadow(0px 1px 2px rgba(0, 0, 0, 0.3));\n",
              "      fill: #FFFFFF;\n",
              "    }\n",
              "  </style>\n",
              "\n",
              "      <script>\n",
              "        const buttonEl =\n",
              "          document.querySelector('#df-bf65dea9-52b4-4af0-9e30-dfb443d48fb8 button.colab-df-convert');\n",
              "        buttonEl.style.display =\n",
              "          google.colab.kernel.accessAllowed ? 'block' : 'none';\n",
              "\n",
              "        async function convertToInteractive(key) {\n",
              "          const element = document.querySelector('#df-bf65dea9-52b4-4af0-9e30-dfb443d48fb8');\n",
              "          const dataTable =\n",
              "            await google.colab.kernel.invokeFunction('convertToInteractive',\n",
              "                                                     [key], {});\n",
              "          if (!dataTable) return;\n",
              "\n",
              "          const docLinkHtml = 'Like what you see? Visit the ' +\n",
              "            '<a target=\"_blank\" href=https://colab.research.google.com/notebooks/data_table.ipynb>data table notebook</a>'\n",
              "            + ' to learn more about interactive tables.';\n",
              "          element.innerHTML = '';\n",
              "          dataTable['output_type'] = 'display_data';\n",
              "          await google.colab.output.renderOutput(dataTable, element);\n",
              "          const docLink = document.createElement('div');\n",
              "          docLink.innerHTML = docLinkHtml;\n",
              "          element.appendChild(docLink);\n",
              "        }\n",
              "      </script>\n",
              "    </div>\n",
              "  </div>\n",
              "  "
            ]
          },
          "metadata": {},
          "execution_count": 34
        }
      ],
      "source": [
        "import pandas as pd\n",
        "URL = 'https://raw.githubusercontent.com/turgonboyevbotir/works/main/Tashkent%20city/Tashkent%20city.csv'\n",
        "df = pd.read_csv(URL)\n",
        "df = df.drop('location', axis=1)\n",
        "df.head()"
      ]
    },
    {
      "cell_type": "code",
      "source": [
        "from sklearn.model_selection import train_test_split\n",
        "train_set,  test_set = train_test_split(df, test_size=0.07, random_state=20)\n",
        "\n",
        "x_train = train_set.drop('price', axis=1)\n",
        "y = train_set['price'].copy()\n",
        "x_num = x_train.drop('district', axis=1)"
      ],
      "metadata": {
        "id": "MgySIr5qw8o3"
      },
      "execution_count": 37,
      "outputs": []
    },
    {
      "cell_type": "code",
      "source": [
        "from sklearn.pipeline import Pipeline\n",
        "from sklearn.impute import SimpleImputer\n",
        "from sklearn.preprocessing import OneHotEncoder, StandardScaler"
      ],
      "metadata": {
        "id": "EAq_mKu_w86d"
      },
      "execution_count": 36,
      "outputs": []
    },
    {
      "cell_type": "code",
      "source": [
        "#Sonli konver\n",
        "num_pipeline = Pipeline([\n",
        "                         ('imputer', SimpleImputer(strategy='median')),\n",
        "                         ('std_scaler', StandardScaler())\n",
        "])\n",
        "\n",
        "num_pipeline.fit_transform(x_num)"
      ],
      "metadata": {
        "colab": {
          "base_uri": "https://localhost:8080/"
        },
        "id": "gUX-Z6db0RCB",
        "outputId": "16287de3-da8d-4707-a879-af5fd06c1f56"
      },
      "execution_count": 38,
      "outputs": [
        {
          "output_type": "execute_result",
          "data": {
            "text/plain": [
              "array([[ 1.84175974, -0.38470645,  0.37018801, -1.24905492, -0.19838652],\n",
              "       [-0.68845199,  4.78574824, -1.31786932, -0.54370626, -1.31868686],\n",
              "       [-0.44953769, -0.38470645,  0.37018801, -0.54370626, -0.19838652],\n",
              "       [ 0.9022518 ,  0.35392993, -2.65054617, -0.54370626,  0.36176365],\n",
              "       [ 0.7502586 , -0.38470645,  0.37018801, -1.24905492, -0.19838652],\n",
              "       [-0.44858773, -0.38470645,  0.7255685 , -0.54370626, -0.19838652],\n",
              "       [-1.12210758, -0.38470645,  0.7255685 , -0.54370626,  0.36176365],\n",
              "       [-1.65598368, -0.38470645,  0.7255685 ,  0.1616424 , -0.75853669],\n",
              "       [-0.24197198, -0.38470645,  0.37018801, -0.54370626, -0.19838652],\n",
              "       [ 0.36505085, -0.38470645,  0.37018801,  0.1616424 , -0.19838652],\n",
              "       [ 0.51941894,  2.56983909, -2.15301348, -0.54370626, -1.31868686],\n",
              "       [ 0.36077604, -0.38470645,  0.37018801,  0.86699106, -0.19838652],\n",
              "       [ 1.16301512, -0.38470645, -0.16288273,  0.1616424 , -0.19838652],\n",
              "       [-0.44526288, -0.38470645,  0.37018801,  0.1616424 , -0.19838652],\n",
              "       [-1.66975806, -0.38470645,  0.7255685 ,  0.1616424 ,  2.60236434],\n",
              "       [-0.62290493, -0.38470645,  0.37018801,  0.86699106, -0.19838652],\n",
              "       [ 1.88403285, -0.38470645,  0.37018801, -1.24905492, -0.19838652],\n",
              "       [ 0.21685748,  0.35392993, -2.11747543, -1.24905492, -0.75853669],\n",
              "       [ 1.80993616,  1.09256632, -0.16288273,  2.98303705,  2.60236434],\n",
              "       [-1.02711183, -0.38470645,  0.7255685 ,  0.1616424 ,  0.36176365],\n",
              "       [-1.35722206, -0.38470645,  0.01480752, -1.24905492, -0.19838652],\n",
              "       [ 0.01831637, -0.38470645,  0.37018801,  0.86699106, -0.19838652],\n",
              "       [ 1.16776491, -0.38470645,  0.37018801,  2.27768839,  2.60236434],\n",
              "       [-0.6794274 , -0.38470645,  0.37018801,  0.86699106, -0.19838652],\n",
              "       [ 0.66143758, -0.38470645,  0.7255685 ,  0.86699106, -0.19838652],\n",
              "       [-1.24512707, -0.38470645,  0.37018801,  0.1616424 , -0.19838652],\n",
              "       [-1.4835664 , -0.38470645,  0.7255685 , -0.54370626, -0.19838652],\n",
              "       [-1.33014827,  0.35392993, -1.93978519, -1.24905492, -0.19838652],\n",
              "       [ 1.08606857, -0.38470645,  0.7255685 ,  0.1616424 , -0.19838652],\n",
              "       [ 1.0518701 , -0.38470645,  0.13919069,  0.1616424 , -0.19838652],\n",
              "       [-0.58585659,  1.8312027 , -2.29516568, -1.24905492, -1.87883703],\n",
              "       [-0.44811275, -0.38470645,  0.19249777, -0.54370626, -0.19838652],\n",
              "       [ 0.74170898, -0.38470645,  0.37018801, -0.54370626, -0.19838652],\n",
              "       [ 1.63134416, -0.38470645,  0.37018801, -1.24905492, -0.19838652],\n",
              "       [-0.44716279, -0.38470645,  0.7255685 , -0.54370626, -0.19838652],\n",
              "       [ 0.50326966, -0.38470645,  0.19249777,  0.1616424 , -0.19838652],\n",
              "       [ 0.57641638, -0.38470645,  0.7255685 , -0.54370626, -0.19838652],\n",
              "       [-1.21377848, -0.38470645,  0.37018801,  0.1616424 , -0.75853669],\n",
              "       [-0.44573786, -0.38470645,  0.37018801,  0.1616424 , -0.19838652],\n",
              "       [-0.95396511,  2.56983909, -2.65054617,  2.27768839,  2.60236434],\n",
              "       [-0.44763777, -0.38470645, -0.34057297, -1.24905492, -1.87883703],\n",
              "       [-1.11878273, -0.38470645,  0.19249777,  1.57233973,  2.60236434],\n",
              "       [ 1.86455872, -0.38470645,  0.7255685 ,  1.57233973,  0.36176365],\n",
              "       [ 0.35175144,  1.09256632, -1.93978519,  0.86699106,  0.36176365],\n",
              "       [ 0.46622132, -0.38470645,  0.7255685 , -0.54370626, -0.19838652],\n",
              "       [-0.59250629, -0.38470645,  0.54787826,  0.86699106, -0.19838652],\n",
              "       [ 0.12756148, -0.38470645,  0.7255685 ,  0.1616424 , -0.19838652],\n",
              "       [ 0.65906268, -0.38470645,  0.7255685 , -0.54370626, -0.19838652]])"
            ]
          },
          "metadata": {},
          "execution_count": 38
        }
      ]
    },
    {
      "cell_type": "code",
      "source": [
        "from sklearn.compose import ColumnTransformer\n",
        "num_attributes = list(x_num)\n",
        "cat_attribs = ['district'] \n",
        "\n",
        "full_pipeline = ColumnTransformer([\n",
        "                                   ('num', num_pipeline, num_attributes),\n",
        "                                   ('cat', OneHotEncoder(), cat_attribs)\n",
        "])"
      ],
      "metadata": {
        "id": "OoJPhfwn4n6L"
      },
      "execution_count": 43,
      "outputs": []
    },
    {
      "cell_type": "code",
      "source": [
        "x_prepared = full_pipeline.fit_transform(x_train)"
      ],
      "metadata": {
        "id": "cxd9eVox5sCM"
      },
      "execution_count": 44,
      "outputs": []
    },
    {
      "cell_type": "code",
      "source": [
        "#Yangi model yaratamiz \n",
        "from sklearn.linear_model import LinearRegression\n",
        "LR_modes = LinearRegression()\n",
        "\n",
        "LR_modes.fit(x_prepared, y)"
      ],
      "metadata": {
        "colab": {
          "base_uri": "https://localhost:8080/"
        },
        "id": "FRk_j8tz9JkB",
        "outputId": "44835679-ca57-40e8-a408-c07f03d4a504"
      },
      "execution_count": 46,
      "outputs": [
        {
          "output_type": "execute_result",
          "data": {
            "text/plain": [
              "LinearRegression()"
            ]
          },
          "metadata": {},
          "execution_count": 46
        }
      ]
    },
    {
      "cell_type": "code",
      "source": [
        "test_data = x_train.sample(5)\n",
        "test_data"
      ],
      "metadata": {
        "colab": {
          "base_uri": "https://localhost:8080/",
          "height": 206
        },
        "id": "wiuRX1LIB3yY",
        "outputId": "230771fb-9385-441c-858b-9621ed8f8bf3"
      },
      "execution_count": 47,
      "outputs": [
        {
          "output_type": "execute_result",
          "data": {
            "text/plain": [
              "    Unnamed: 0           district  rooms  size  level  max_levels\n",
              "47        7407        Яшнободский      3  15.0      7           9\n",
              "35        4984        Яшнободский      1  20.0      2           4\n",
              "24        3087        Яшнободский      1  18.0      2           4\n",
              "17        2650  Мирзо-Улугбекский      1  18.0      2           4\n",
              "28        4337        Мирабадский      3   5.0      4           5"
            ],
            "text/html": [
              "\n",
              "  <div id=\"df-98244e5f-5bff-44ca-b4b2-4835b446afac\">\n",
              "    <div class=\"colab-df-container\">\n",
              "      <div>\n",
              "<style scoped>\n",
              "    .dataframe tbody tr th:only-of-type {\n",
              "        vertical-align: middle;\n",
              "    }\n",
              "\n",
              "    .dataframe tbody tr th {\n",
              "        vertical-align: top;\n",
              "    }\n",
              "\n",
              "    .dataframe thead th {\n",
              "        text-align: right;\n",
              "    }\n",
              "</style>\n",
              "<table border=\"1\" class=\"dataframe\">\n",
              "  <thead>\n",
              "    <tr style=\"text-align: right;\">\n",
              "      <th></th>\n",
              "      <th>Unnamed: 0</th>\n",
              "      <th>district</th>\n",
              "      <th>rooms</th>\n",
              "      <th>size</th>\n",
              "      <th>level</th>\n",
              "      <th>max_levels</th>\n",
              "    </tr>\n",
              "  </thead>\n",
              "  <tbody>\n",
              "    <tr>\n",
              "      <th>47</th>\n",
              "      <td>7407</td>\n",
              "      <td>Яшнободский</td>\n",
              "      <td>3</td>\n",
              "      <td>15.0</td>\n",
              "      <td>7</td>\n",
              "      <td>9</td>\n",
              "    </tr>\n",
              "    <tr>\n",
              "      <th>35</th>\n",
              "      <td>4984</td>\n",
              "      <td>Яшнободский</td>\n",
              "      <td>1</td>\n",
              "      <td>20.0</td>\n",
              "      <td>2</td>\n",
              "      <td>4</td>\n",
              "    </tr>\n",
              "    <tr>\n",
              "      <th>24</th>\n",
              "      <td>3087</td>\n",
              "      <td>Яшнободский</td>\n",
              "      <td>1</td>\n",
              "      <td>18.0</td>\n",
              "      <td>2</td>\n",
              "      <td>4</td>\n",
              "    </tr>\n",
              "    <tr>\n",
              "      <th>17</th>\n",
              "      <td>2650</td>\n",
              "      <td>Мирзо-Улугбекский</td>\n",
              "      <td>1</td>\n",
              "      <td>18.0</td>\n",
              "      <td>2</td>\n",
              "      <td>4</td>\n",
              "    </tr>\n",
              "    <tr>\n",
              "      <th>28</th>\n",
              "      <td>4337</td>\n",
              "      <td>Мирабадский</td>\n",
              "      <td>3</td>\n",
              "      <td>5.0</td>\n",
              "      <td>4</td>\n",
              "      <td>5</td>\n",
              "    </tr>\n",
              "  </tbody>\n",
              "</table>\n",
              "</div>\n",
              "      <button class=\"colab-df-convert\" onclick=\"convertToInteractive('df-98244e5f-5bff-44ca-b4b2-4835b446afac')\"\n",
              "              title=\"Convert this dataframe to an interactive table.\"\n",
              "              style=\"display:none;\">\n",
              "        \n",
              "  <svg xmlns=\"http://www.w3.org/2000/svg\" height=\"24px\"viewBox=\"0 0 24 24\"\n",
              "       width=\"24px\">\n",
              "    <path d=\"M0 0h24v24H0V0z\" fill=\"none\"/>\n",
              "    <path d=\"M18.56 5.44l.94 2.06.94-2.06 2.06-.94-2.06-.94-.94-2.06-.94 2.06-2.06.94zm-11 1L8.5 8.5l.94-2.06 2.06-.94-2.06-.94L8.5 2.5l-.94 2.06-2.06.94zm10 10l.94 2.06.94-2.06 2.06-.94-2.06-.94-.94-2.06-.94 2.06-2.06.94z\"/><path d=\"M17.41 7.96l-1.37-1.37c-.4-.4-.92-.59-1.43-.59-.52 0-1.04.2-1.43.59L10.3 9.45l-7.72 7.72c-.78.78-.78 2.05 0 2.83L4 21.41c.39.39.9.59 1.41.59.51 0 1.02-.2 1.41-.59l7.78-7.78 2.81-2.81c.8-.78.8-2.07 0-2.86zM5.41 20L4 18.59l7.72-7.72 1.47 1.35L5.41 20z\"/>\n",
              "  </svg>\n",
              "      </button>\n",
              "      \n",
              "  <style>\n",
              "    .colab-df-container {\n",
              "      display:flex;\n",
              "      flex-wrap:wrap;\n",
              "      gap: 12px;\n",
              "    }\n",
              "\n",
              "    .colab-df-convert {\n",
              "      background-color: #E8F0FE;\n",
              "      border: none;\n",
              "      border-radius: 50%;\n",
              "      cursor: pointer;\n",
              "      display: none;\n",
              "      fill: #1967D2;\n",
              "      height: 32px;\n",
              "      padding: 0 0 0 0;\n",
              "      width: 32px;\n",
              "    }\n",
              "\n",
              "    .colab-df-convert:hover {\n",
              "      background-color: #E2EBFA;\n",
              "      box-shadow: 0px 1px 2px rgba(60, 64, 67, 0.3), 0px 1px 3px 1px rgba(60, 64, 67, 0.15);\n",
              "      fill: #174EA6;\n",
              "    }\n",
              "\n",
              "    [theme=dark] .colab-df-convert {\n",
              "      background-color: #3B4455;\n",
              "      fill: #D2E3FC;\n",
              "    }\n",
              "\n",
              "    [theme=dark] .colab-df-convert:hover {\n",
              "      background-color: #434B5C;\n",
              "      box-shadow: 0px 1px 3px 1px rgba(0, 0, 0, 0.15);\n",
              "      filter: drop-shadow(0px 1px 2px rgba(0, 0, 0, 0.3));\n",
              "      fill: #FFFFFF;\n",
              "    }\n",
              "  </style>\n",
              "\n",
              "      <script>\n",
              "        const buttonEl =\n",
              "          document.querySelector('#df-98244e5f-5bff-44ca-b4b2-4835b446afac button.colab-df-convert');\n",
              "        buttonEl.style.display =\n",
              "          google.colab.kernel.accessAllowed ? 'block' : 'none';\n",
              "\n",
              "        async function convertToInteractive(key) {\n",
              "          const element = document.querySelector('#df-98244e5f-5bff-44ca-b4b2-4835b446afac');\n",
              "          const dataTable =\n",
              "            await google.colab.kernel.invokeFunction('convertToInteractive',\n",
              "                                                     [key], {});\n",
              "          if (!dataTable) return;\n",
              "\n",
              "          const docLinkHtml = 'Like what you see? Visit the ' +\n",
              "            '<a target=\"_blank\" href=https://colab.research.google.com/notebooks/data_table.ipynb>data table notebook</a>'\n",
              "            + ' to learn more about interactive tables.';\n",
              "          element.innerHTML = '';\n",
              "          dataTable['output_type'] = 'display_data';\n",
              "          await google.colab.output.renderOutput(dataTable, element);\n",
              "          const docLink = document.createElement('div');\n",
              "          docLink.innerHTML = docLinkHtml;\n",
              "          element.appendChild(docLink);\n",
              "        }\n",
              "      </script>\n",
              "    </div>\n",
              "  </div>\n",
              "  "
            ]
          },
          "metadata": {},
          "execution_count": 47
        }
      ]
    },
    {
      "cell_type": "code",
      "source": [
        "test_label = y.loc[test_data.index]\n",
        "test_label"
      ],
      "metadata": {
        "colab": {
          "base_uri": "https://localhost:8080/"
        },
        "id": "YwTp_1FwDIkf",
        "outputId": "3092c74b-af78-4af9-cc37-781564aa52db"
      },
      "execution_count": 49,
      "outputs": [
        {
          "output_type": "execute_result",
          "data": {
            "text/plain": [
              "47    50000\n",
              "35    14000\n",
              "24    11000\n",
              "17    14000\n",
              "28    46600\n",
              "Name: price, dtype: int64"
            ]
          },
          "metadata": {},
          "execution_count": 49
        }
      ]
    },
    {
      "cell_type": "code",
      "source": [
        "test_data_prepared = full_pipeline.transform(test_data)\n",
        "test_data_prepared"
      ],
      "metadata": {
        "colab": {
          "base_uri": "https://localhost:8080/"
        },
        "id": "4ejGxE_3DtqB",
        "outputId": "2b420696-e677-42c8-da59-4062304faae5"
      },
      "execution_count": 50,
      "outputs": [
        {
          "output_type": "execute_result",
          "data": {
            "text/plain": [
              "array([[ 1.80993616,  1.09256632, -0.16288273,  2.98303705,  2.60236434,\n",
              "         0.        ,  0.        ,  0.        ,  0.        ,  0.        ,\n",
              "         0.        ,  0.        ,  0.        ,  1.        ],\n",
              "       [ 0.65906268, -0.38470645,  0.7255685 , -0.54370626, -0.19838652,\n",
              "         0.        ,  0.        ,  0.        ,  0.        ,  0.        ,\n",
              "         0.        ,  0.        ,  0.        ,  1.        ],\n",
              "       [-0.24197198, -0.38470645,  0.37018801, -0.54370626, -0.19838652,\n",
              "         0.        ,  0.        ,  0.        ,  0.        ,  0.        ,\n",
              "         0.        ,  0.        ,  0.        ,  1.        ],\n",
              "       [-0.44953769, -0.38470645,  0.37018801, -0.54370626, -0.19838652,\n",
              "         0.        ,  1.        ,  0.        ,  0.        ,  0.        ,\n",
              "         0.        ,  0.        ,  0.        ,  0.        ],\n",
              "       [ 0.35175144,  1.09256632, -1.93978519,  0.86699106,  0.36176365,\n",
              "         1.        ,  0.        ,  0.        ,  0.        ,  0.        ,\n",
              "         0.        ,  0.        ,  0.        ,  0.        ]])"
            ]
          },
          "metadata": {},
          "execution_count": 50
        }
      ]
    },
    {
      "cell_type": "code",
      "source": [
        "predicted_data = LR_modes.predict(test_data_prepared)\n",
        "predicted_data"
      ],
      "metadata": {
        "colab": {
          "base_uri": "https://localhost:8080/"
        },
        "id": "Glm8V3QCESXv",
        "outputId": "d73a049d-2773-492a-ab4a-6d2557786c27"
      },
      "execution_count": 51,
      "outputs": [
        {
          "output_type": "execute_result",
          "data": {
            "text/plain": [
              "array([58646.80282256, 14036.91637241, 11158.68931652, 15154.04019742,\n",
              "       34990.48659538])"
            ]
          },
          "metadata": {},
          "execution_count": 51
        }
      ]
    },
    {
      "cell_type": "code",
      "source": [
        "pd.DataFrame({'Prognoz':predicted_data, 'Real baxosi': test_label})"
      ],
      "metadata": {
        "colab": {
          "base_uri": "https://localhost:8080/",
          "height": 206
        },
        "id": "jL4NjCchEmuD",
        "outputId": "e29898ee-eae5-48f7-d181-f025f7d0198f"
      },
      "execution_count": 52,
      "outputs": [
        {
          "output_type": "execute_result",
          "data": {
            "text/plain": [
              "         Prognoz  Real baxosi\n",
              "47  58646.802823        50000\n",
              "35  14036.916372        14000\n",
              "24  11158.689317        11000\n",
              "17  15154.040197        14000\n",
              "28  34990.486595        46600"
            ],
            "text/html": [
              "\n",
              "  <div id=\"df-e3127e8c-5d42-4972-80db-9a47726ad959\">\n",
              "    <div class=\"colab-df-container\">\n",
              "      <div>\n",
              "<style scoped>\n",
              "    .dataframe tbody tr th:only-of-type {\n",
              "        vertical-align: middle;\n",
              "    }\n",
              "\n",
              "    .dataframe tbody tr th {\n",
              "        vertical-align: top;\n",
              "    }\n",
              "\n",
              "    .dataframe thead th {\n",
              "        text-align: right;\n",
              "    }\n",
              "</style>\n",
              "<table border=\"1\" class=\"dataframe\">\n",
              "  <thead>\n",
              "    <tr style=\"text-align: right;\">\n",
              "      <th></th>\n",
              "      <th>Prognoz</th>\n",
              "      <th>Real baxosi</th>\n",
              "    </tr>\n",
              "  </thead>\n",
              "  <tbody>\n",
              "    <tr>\n",
              "      <th>47</th>\n",
              "      <td>58646.802823</td>\n",
              "      <td>50000</td>\n",
              "    </tr>\n",
              "    <tr>\n",
              "      <th>35</th>\n",
              "      <td>14036.916372</td>\n",
              "      <td>14000</td>\n",
              "    </tr>\n",
              "    <tr>\n",
              "      <th>24</th>\n",
              "      <td>11158.689317</td>\n",
              "      <td>11000</td>\n",
              "    </tr>\n",
              "    <tr>\n",
              "      <th>17</th>\n",
              "      <td>15154.040197</td>\n",
              "      <td>14000</td>\n",
              "    </tr>\n",
              "    <tr>\n",
              "      <th>28</th>\n",
              "      <td>34990.486595</td>\n",
              "      <td>46600</td>\n",
              "    </tr>\n",
              "  </tbody>\n",
              "</table>\n",
              "</div>\n",
              "      <button class=\"colab-df-convert\" onclick=\"convertToInteractive('df-e3127e8c-5d42-4972-80db-9a47726ad959')\"\n",
              "              title=\"Convert this dataframe to an interactive table.\"\n",
              "              style=\"display:none;\">\n",
              "        \n",
              "  <svg xmlns=\"http://www.w3.org/2000/svg\" height=\"24px\"viewBox=\"0 0 24 24\"\n",
              "       width=\"24px\">\n",
              "    <path d=\"M0 0h24v24H0V0z\" fill=\"none\"/>\n",
              "    <path d=\"M18.56 5.44l.94 2.06.94-2.06 2.06-.94-2.06-.94-.94-2.06-.94 2.06-2.06.94zm-11 1L8.5 8.5l.94-2.06 2.06-.94-2.06-.94L8.5 2.5l-.94 2.06-2.06.94zm10 10l.94 2.06.94-2.06 2.06-.94-2.06-.94-.94-2.06-.94 2.06-2.06.94z\"/><path d=\"M17.41 7.96l-1.37-1.37c-.4-.4-.92-.59-1.43-.59-.52 0-1.04.2-1.43.59L10.3 9.45l-7.72 7.72c-.78.78-.78 2.05 0 2.83L4 21.41c.39.39.9.59 1.41.59.51 0 1.02-.2 1.41-.59l7.78-7.78 2.81-2.81c.8-.78.8-2.07 0-2.86zM5.41 20L4 18.59l7.72-7.72 1.47 1.35L5.41 20z\"/>\n",
              "  </svg>\n",
              "      </button>\n",
              "      \n",
              "  <style>\n",
              "    .colab-df-container {\n",
              "      display:flex;\n",
              "      flex-wrap:wrap;\n",
              "      gap: 12px;\n",
              "    }\n",
              "\n",
              "    .colab-df-convert {\n",
              "      background-color: #E8F0FE;\n",
              "      border: none;\n",
              "      border-radius: 50%;\n",
              "      cursor: pointer;\n",
              "      display: none;\n",
              "      fill: #1967D2;\n",
              "      height: 32px;\n",
              "      padding: 0 0 0 0;\n",
              "      width: 32px;\n",
              "    }\n",
              "\n",
              "    .colab-df-convert:hover {\n",
              "      background-color: #E2EBFA;\n",
              "      box-shadow: 0px 1px 2px rgba(60, 64, 67, 0.3), 0px 1px 3px 1px rgba(60, 64, 67, 0.15);\n",
              "      fill: #174EA6;\n",
              "    }\n",
              "\n",
              "    [theme=dark] .colab-df-convert {\n",
              "      background-color: #3B4455;\n",
              "      fill: #D2E3FC;\n",
              "    }\n",
              "\n",
              "    [theme=dark] .colab-df-convert:hover {\n",
              "      background-color: #434B5C;\n",
              "      box-shadow: 0px 1px 3px 1px rgba(0, 0, 0, 0.15);\n",
              "      filter: drop-shadow(0px 1px 2px rgba(0, 0, 0, 0.3));\n",
              "      fill: #FFFFFF;\n",
              "    }\n",
              "  </style>\n",
              "\n",
              "      <script>\n",
              "        const buttonEl =\n",
              "          document.querySelector('#df-e3127e8c-5d42-4972-80db-9a47726ad959 button.colab-df-convert');\n",
              "        buttonEl.style.display =\n",
              "          google.colab.kernel.accessAllowed ? 'block' : 'none';\n",
              "\n",
              "        async function convertToInteractive(key) {\n",
              "          const element = document.querySelector('#df-e3127e8c-5d42-4972-80db-9a47726ad959');\n",
              "          const dataTable =\n",
              "            await google.colab.kernel.invokeFunction('convertToInteractive',\n",
              "                                                     [key], {});\n",
              "          if (!dataTable) return;\n",
              "\n",
              "          const docLinkHtml = 'Like what you see? Visit the ' +\n",
              "            '<a target=\"_blank\" href=https://colab.research.google.com/notebooks/data_table.ipynb>data table notebook</a>'\n",
              "            + ' to learn more about interactive tables.';\n",
              "          element.innerHTML = '';\n",
              "          dataTable['output_type'] = 'display_data';\n",
              "          await google.colab.output.renderOutput(dataTable, element);\n",
              "          const docLink = document.createElement('div');\n",
              "          docLink.innerHTML = docLinkHtml;\n",
              "          element.appendChild(docLink);\n",
              "        }\n",
              "      </script>\n",
              "    </div>\n",
              "  </div>\n",
              "  "
            ]
          },
          "metadata": {},
          "execution_count": 52
        }
      ]
    },
    {
      "cell_type": "code",
      "source": [
        "test_set"
      ],
      "metadata": {
        "colab": {
          "base_uri": "https://localhost:8080/",
          "height": 175
        },
        "id": "sNTsAuhyEzik",
        "outputId": "28294033-5a43-405f-ab32-ad3a6cc11c91"
      },
      "execution_count": 53,
      "outputs": [
        {
          "output_type": "execute_result",
          "data": {
            "text/plain": [
              "    Unnamed: 0           district  rooms  size  level  max_levels  price\n",
              "45        6873  Мирзо-Улугбекский      1  20.0      1           4  17500\n",
              "4          745  Мирзо-Улугбекский      1  16.0      1           4  18000\n",
              "44        6338       Чиланзарский      1  20.0      3           9  14500\n",
              "49        7505        Учтепинский      1  18.0      3           4  16000"
            ],
            "text/html": [
              "\n",
              "  <div id=\"df-9aaa6395-b751-419f-b30b-15eff504f348\">\n",
              "    <div class=\"colab-df-container\">\n",
              "      <div>\n",
              "<style scoped>\n",
              "    .dataframe tbody tr th:only-of-type {\n",
              "        vertical-align: middle;\n",
              "    }\n",
              "\n",
              "    .dataframe tbody tr th {\n",
              "        vertical-align: top;\n",
              "    }\n",
              "\n",
              "    .dataframe thead th {\n",
              "        text-align: right;\n",
              "    }\n",
              "</style>\n",
              "<table border=\"1\" class=\"dataframe\">\n",
              "  <thead>\n",
              "    <tr style=\"text-align: right;\">\n",
              "      <th></th>\n",
              "      <th>Unnamed: 0</th>\n",
              "      <th>district</th>\n",
              "      <th>rooms</th>\n",
              "      <th>size</th>\n",
              "      <th>level</th>\n",
              "      <th>max_levels</th>\n",
              "      <th>price</th>\n",
              "    </tr>\n",
              "  </thead>\n",
              "  <tbody>\n",
              "    <tr>\n",
              "      <th>45</th>\n",
              "      <td>6873</td>\n",
              "      <td>Мирзо-Улугбекский</td>\n",
              "      <td>1</td>\n",
              "      <td>20.0</td>\n",
              "      <td>1</td>\n",
              "      <td>4</td>\n",
              "      <td>17500</td>\n",
              "    </tr>\n",
              "    <tr>\n",
              "      <th>4</th>\n",
              "      <td>745</td>\n",
              "      <td>Мирзо-Улугбекский</td>\n",
              "      <td>1</td>\n",
              "      <td>16.0</td>\n",
              "      <td>1</td>\n",
              "      <td>4</td>\n",
              "      <td>18000</td>\n",
              "    </tr>\n",
              "    <tr>\n",
              "      <th>44</th>\n",
              "      <td>6338</td>\n",
              "      <td>Чиланзарский</td>\n",
              "      <td>1</td>\n",
              "      <td>20.0</td>\n",
              "      <td>3</td>\n",
              "      <td>9</td>\n",
              "      <td>14500</td>\n",
              "    </tr>\n",
              "    <tr>\n",
              "      <th>49</th>\n",
              "      <td>7505</td>\n",
              "      <td>Учтепинский</td>\n",
              "      <td>1</td>\n",
              "      <td>18.0</td>\n",
              "      <td>3</td>\n",
              "      <td>4</td>\n",
              "      <td>16000</td>\n",
              "    </tr>\n",
              "  </tbody>\n",
              "</table>\n",
              "</div>\n",
              "      <button class=\"colab-df-convert\" onclick=\"convertToInteractive('df-9aaa6395-b751-419f-b30b-15eff504f348')\"\n",
              "              title=\"Convert this dataframe to an interactive table.\"\n",
              "              style=\"display:none;\">\n",
              "        \n",
              "  <svg xmlns=\"http://www.w3.org/2000/svg\" height=\"24px\"viewBox=\"0 0 24 24\"\n",
              "       width=\"24px\">\n",
              "    <path d=\"M0 0h24v24H0V0z\" fill=\"none\"/>\n",
              "    <path d=\"M18.56 5.44l.94 2.06.94-2.06 2.06-.94-2.06-.94-.94-2.06-.94 2.06-2.06.94zm-11 1L8.5 8.5l.94-2.06 2.06-.94-2.06-.94L8.5 2.5l-.94 2.06-2.06.94zm10 10l.94 2.06.94-2.06 2.06-.94-2.06-.94-.94-2.06-.94 2.06-2.06.94z\"/><path d=\"M17.41 7.96l-1.37-1.37c-.4-.4-.92-.59-1.43-.59-.52 0-1.04.2-1.43.59L10.3 9.45l-7.72 7.72c-.78.78-.78 2.05 0 2.83L4 21.41c.39.39.9.59 1.41.59.51 0 1.02-.2 1.41-.59l7.78-7.78 2.81-2.81c.8-.78.8-2.07 0-2.86zM5.41 20L4 18.59l7.72-7.72 1.47 1.35L5.41 20z\"/>\n",
              "  </svg>\n",
              "      </button>\n",
              "      \n",
              "  <style>\n",
              "    .colab-df-container {\n",
              "      display:flex;\n",
              "      flex-wrap:wrap;\n",
              "      gap: 12px;\n",
              "    }\n",
              "\n",
              "    .colab-df-convert {\n",
              "      background-color: #E8F0FE;\n",
              "      border: none;\n",
              "      border-radius: 50%;\n",
              "      cursor: pointer;\n",
              "      display: none;\n",
              "      fill: #1967D2;\n",
              "      height: 32px;\n",
              "      padding: 0 0 0 0;\n",
              "      width: 32px;\n",
              "    }\n",
              "\n",
              "    .colab-df-convert:hover {\n",
              "      background-color: #E2EBFA;\n",
              "      box-shadow: 0px 1px 2px rgba(60, 64, 67, 0.3), 0px 1px 3px 1px rgba(60, 64, 67, 0.15);\n",
              "      fill: #174EA6;\n",
              "    }\n",
              "\n",
              "    [theme=dark] .colab-df-convert {\n",
              "      background-color: #3B4455;\n",
              "      fill: #D2E3FC;\n",
              "    }\n",
              "\n",
              "    [theme=dark] .colab-df-convert:hover {\n",
              "      background-color: #434B5C;\n",
              "      box-shadow: 0px 1px 3px 1px rgba(0, 0, 0, 0.15);\n",
              "      filter: drop-shadow(0px 1px 2px rgba(0, 0, 0, 0.3));\n",
              "      fill: #FFFFFF;\n",
              "    }\n",
              "  </style>\n",
              "\n",
              "      <script>\n",
              "        const buttonEl =\n",
              "          document.querySelector('#df-9aaa6395-b751-419f-b30b-15eff504f348 button.colab-df-convert');\n",
              "        buttonEl.style.display =\n",
              "          google.colab.kernel.accessAllowed ? 'block' : 'none';\n",
              "\n",
              "        async function convertToInteractive(key) {\n",
              "          const element = document.querySelector('#df-9aaa6395-b751-419f-b30b-15eff504f348');\n",
              "          const dataTable =\n",
              "            await google.colab.kernel.invokeFunction('convertToInteractive',\n",
              "                                                     [key], {});\n",
              "          if (!dataTable) return;\n",
              "\n",
              "          const docLinkHtml = 'Like what you see? Visit the ' +\n",
              "            '<a target=\"_blank\" href=https://colab.research.google.com/notebooks/data_table.ipynb>data table notebook</a>'\n",
              "            + ' to learn more about interactive tables.';\n",
              "          element.innerHTML = '';\n",
              "          dataTable['output_type'] = 'display_data';\n",
              "          await google.colab.output.renderOutput(dataTable, element);\n",
              "          const docLink = document.createElement('div');\n",
              "          docLink.innerHTML = docLinkHtml;\n",
              "          element.appendChild(docLink);\n",
              "        }\n",
              "      </script>\n",
              "    </div>\n",
              "  </div>\n",
              "  "
            ]
          },
          "metadata": {},
          "execution_count": 53
        }
      ]
    },
    {
      "cell_type": "code",
      "source": [
        "x_test = test_set.drop('price', axis=1)\n",
        "y_test = test_set['price'].copy()"
      ],
      "metadata": {
        "id": "NNW0mp6lFAn-"
      },
      "execution_count": 55,
      "outputs": []
    },
    {
      "cell_type": "code",
      "source": [
        "x_test_prepared = full_pipeline.transform(x_test)\n",
        "y_predicted = LR_modes.predict(x_test_prepared)"
      ],
      "metadata": {
        "id": "ol0q9AsVFpi2"
      },
      "execution_count": 56,
      "outputs": []
    },
    {
      "cell_type": "code",
      "source": [
        "import numpy as np"
      ],
      "metadata": {
        "id": "jXXMWBGdGX1I"
      },
      "execution_count": 57,
      "outputs": []
    },
    {
      "cell_type": "code",
      "source": [
        "#Birinchi tekshirish\n",
        "from sklearn.metrics import mean_squared_error\n",
        "lin_mse = mean_squared_error(y_test, y_predicted)\n",
        "lin_rmse = np.sqrt(lin_mse)\n",
        "print(lin_rmse)"
      ],
      "metadata": {
        "colab": {
          "base_uri": "https://localhost:8080/"
        },
        "id": "xcoaZvY1IGUC",
        "outputId": "05591a83-7012-4957-a7dd-9e93ad7359b4"
      },
      "execution_count": 58,
      "outputs": [
        {
          "output_type": "stream",
          "name": "stdout",
          "text": [
            "4680.422071266934\n"
          ]
        }
      ]
    },
    {
      "cell_type": "code",
      "source": [
        "#Ikkinchi tekshirish\n",
        "x = df.drop('price', axis=1)\n",
        "y = df['price'].copy()\n",
        "\n",
        "x_prepared = full_pipeline.transform(x)"
      ],
      "metadata": {
        "id": "rIPh1rU3Im4z"
      },
      "execution_count": 61,
      "outputs": []
    },
    {
      "cell_type": "code",
      "source": [
        "from sklearn.model_selection import cross_val_score\n",
        "\n",
        "scores = cross_val_score(LR_modes, x_prepared, y, scoring=\"neg_mean_squared_error\", cv=8)\n",
        "LR_rmse_scores = np.sqrt(-scores)"
      ],
      "metadata": {
        "id": "uXlCKZU_KHro"
      },
      "execution_count": 62,
      "outputs": []
    },
    {
      "cell_type": "code",
      "source": [
        "def display_scores(scores):\n",
        "  print(f\"Scores : {scores}\")\n",
        "  print(\"Mean:\", scores.mean())\n",
        "  print(\"Std.dev:\", scores.std())\n",
        "\n",
        "display_scores(LR_rmse_scores)"
      ],
      "metadata": {
        "colab": {
          "base_uri": "https://localhost:8080/"
        },
        "id": "7GxxHqw-KI5A",
        "outputId": "d885a9db-5f81-4ec1-cdd6-86f9189a8173"
      },
      "execution_count": 63,
      "outputs": [
        {
          "output_type": "stream",
          "name": "stdout",
          "text": [
            "Scores : [12628.99933614 35564.49221113 11028.07951462  4790.58806385\n",
            "  7493.1238669   4876.70533105  5262.27261631 16252.77776605]\n",
            "Mean: 12237.129838255583\n",
            "Std.dev: 9635.141976061028\n"
          ]
        }
      ]
    },
    {
      "cell_type": "code",
      "source": [
        "#Modelni saqlash\n",
        "\n",
        "import pickle\n",
        "\n",
        "filename = 'LR_model.pkl'\n",
        "with open (filename, 'wb') as file:\n",
        "  pickle.dump(LR_modes, file)"
      ],
      "metadata": {
        "id": "nlsszKatMUVR"
      },
      "execution_count": 69,
      "outputs": []
    },
    {
      "cell_type": "code",
      "source": [
        "#Modelni qayta o'qib olamiz\n",
        "\n",
        "with open(filename, 'rb') as file:\n",
        "    model = pickle.load(file)"
      ],
      "metadata": {
        "id": "Km8tbegJOQMT"
      },
      "execution_count": 70,
      "outputs": []
    },
    {
      "cell_type": "code",
      "source": [
        "#Modelni qayta ishlatib ko'ramiz\n",
        "\n",
        "scores = cross_val_score(model, x_prepared, y, scoring=\"neg_mean_squared_error\", cv=5)\n",
        "LR_rmse_scores = np.sqrt(-scores)\n",
        "display_scores(LR_rmse_scores)"
      ],
      "metadata": {
        "colab": {
          "base_uri": "https://localhost:8080/"
        },
        "id": "75MEGO5uOiWp",
        "outputId": "e71974f5-12b4-4970-f0a0-f91008907d09"
      },
      "execution_count": 71,
      "outputs": [
        {
          "output_type": "stream",
          "name": "stdout",
          "text": [
            "Scores : [10566.48052758 26276.50624087  6864.84573077  7102.74429228\n",
            " 14195.99392568]\n",
            "Mean: 13001.314143438172\n",
            "Std.dev: 7155.917420029917\n"
          ]
        }
      ]
    },
    {
      "cell_type": "code",
      "source": [
        ""
      ],
      "metadata": {
        "id": "FlFnXDqfOuvV"
      },
      "execution_count": null,
      "outputs": []
    }
  ]
}